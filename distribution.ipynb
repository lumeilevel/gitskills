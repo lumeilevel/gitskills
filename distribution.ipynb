{
 "cells": [
  {
   "cell_type": "code",
   "execution_count": null,
   "metadata": {},
   "outputs": [],
   "source": []
  },
  {
   "cell_type": "code",
   "execution_count": 1,
   "metadata": {},
   "outputs": [
    {
     "name": "stdout",
     "output_type": "stream",
     "text": [
      "Mean 1.903 \n",
      "Var 1.44748\n",
      "np = 1.92 \n",
      "np(1-p) = 1.4592"
     ]
    },
    {
     "data": {
      "text/plain": "x\n   0    1    2    3    4    5    6    7 \n 559 1443 1537  973  382   86   19    1 "
     },
     "metadata": {},
     "output_type": "display_data"
    }
   ],
   "source": [
    "repeats <- 5000; n <- 8; p <- 0.24;\n",
    "x <- rbinom(repeats, n, p)\n",
    "cat(\"Mean\", mean(x), \"\\nVar\", var(x))\n",
    "cat(\"\\nnp =\", n * p, \"\\nnp(1-p) =\", n * p * (1 - p))\n",
    "table(x)"
   ]
  },
  {
   "cell_type": "code",
   "execution_count": 1,
   "metadata": {},
   "outputs": [
    {
     "data": {
      "text/html": "<style>\n.list-inline {list-style: none; margin:0; padding: 0}\n.list-inline>li {display: inline-block}\n.list-inline>li:not(:last-child)::after {content: \"\\00b7\"; padding: 0 .5ex}\n</style>\n<ol class=list-inline><li>1</li><li>4</li><li>9</li><li>16</li><li>25</li><li>36</li><li>49</li><li>64</li><li>81</li><li>100</li><li>121</li><li>144</li><li>169</li><li>196</li><li>225</li><li>256</li><li>289</li><li>324</li><li>361</li><li>400</li><li>441</li><li>484</li><li>529</li><li>576</li><li>625</li><li>676</li><li>729</li><li>784</li><li>841</li><li>900</li><li>961</li><li>1024</li><li>1089</li><li>1156</li><li>1225</li><li>1296</li><li>1369</li><li>1444</li><li>1521</li><li>1600</li><li>1681</li><li>1764</li><li>1849</li><li>1936</li><li>2025</li><li>2116</li><li>2209</li><li>2304</li><li>2401</li><li>2500</li><li>2601</li><li>2704</li><li>2809</li><li>2916</li><li>3025</li><li>3136</li><li>3249</li><li>3364</li><li>3481</li><li>3600</li><li>3721</li><li>3844</li><li>3969</li><li>4096</li><li>4225</li><li>4356</li><li>4489</li><li>4624</li><li>4761</li><li>4900</li><li>5041</li><li>5184</li><li>5329</li><li>5476</li><li>5625</li><li>5776</li><li>5929</li><li>6084</li><li>6241</li><li>6400</li><li>6561</li><li>6724</li><li>6889</li><li>7056</li><li>7225</li><li>7396</li><li>7569</li><li>7744</li><li>7921</li><li>8100</li><li>8281</li><li>8464</li><li>8649</li><li>8836</li><li>9025</li><li>9216</li><li>9409</li><li>9604</li><li>9801</li><li>10000</li></ol>\n",
      "text/markdown": "1. 1\n2. 4\n3. 9\n4. 16\n5. 25\n6. 36\n7. 49\n8. 64\n9. 81\n10. 100\n11. 121\n12. 144\n13. 169\n14. 196\n15. 225\n16. 256\n17. 289\n18. 324\n19. 361\n20. 400\n21. 441\n22. 484\n23. 529\n24. 576\n25. 625\n26. 676\n27. 729\n28. 784\n29. 841\n30. 900\n31. 961\n32. 1024\n33. 1089\n34. 1156\n35. 1225\n36. 1296\n37. 1369\n38. 1444\n39. 1521\n40. 1600\n41. 1681\n42. 1764\n43. 1849\n44. 1936\n45. 2025\n46. 2116\n47. 2209\n48. 2304\n49. 2401\n50. 2500\n51. 2601\n52. 2704\n53. 2809\n54. 2916\n55. 3025\n56. 3136\n57. 3249\n58. 3364\n59. 3481\n60. 3600\n61. 3721\n62. 3844\n63. 3969\n64. 4096\n65. 4225\n66. 4356\n67. 4489\n68. 4624\n69. 4761\n70. 4900\n71. 5041\n72. 5184\n73. 5329\n74. 5476\n75. 5625\n76. 5776\n77. 5929\n78. 6084\n79. 6241\n80. 6400\n81. 6561\n82. 6724\n83. 6889\n84. 7056\n85. 7225\n86. 7396\n87. 7569\n88. 7744\n89. 7921\n90. 8100\n91. 8281\n92. 8464\n93. 8649\n94. 8836\n95. 9025\n96. 9216\n97. 9409\n98. 9604\n99. 9801\n100. 10000\n\n\n",
      "text/latex": "\\begin{enumerate*}\n\\item 1\n\\item 4\n\\item 9\n\\item 16\n\\item 25\n\\item 36\n\\item 49\n\\item 64\n\\item 81\n\\item 100\n\\item 121\n\\item 144\n\\item 169\n\\item 196\n\\item 225\n\\item 256\n\\item 289\n\\item 324\n\\item 361\n\\item 400\n\\item 441\n\\item 484\n\\item 529\n\\item 576\n\\item 625\n\\item 676\n\\item 729\n\\item 784\n\\item 841\n\\item 900\n\\item 961\n\\item 1024\n\\item 1089\n\\item 1156\n\\item 1225\n\\item 1296\n\\item 1369\n\\item 1444\n\\item 1521\n\\item 1600\n\\item 1681\n\\item 1764\n\\item 1849\n\\item 1936\n\\item 2025\n\\item 2116\n\\item 2209\n\\item 2304\n\\item 2401\n\\item 2500\n\\item 2601\n\\item 2704\n\\item 2809\n\\item 2916\n\\item 3025\n\\item 3136\n\\item 3249\n\\item 3364\n\\item 3481\n\\item 3600\n\\item 3721\n\\item 3844\n\\item 3969\n\\item 4096\n\\item 4225\n\\item 4356\n\\item 4489\n\\item 4624\n\\item 4761\n\\item 4900\n\\item 5041\n\\item 5184\n\\item 5329\n\\item 5476\n\\item 5625\n\\item 5776\n\\item 5929\n\\item 6084\n\\item 6241\n\\item 6400\n\\item 6561\n\\item 6724\n\\item 6889\n\\item 7056\n\\item 7225\n\\item 7396\n\\item 7569\n\\item 7744\n\\item 7921\n\\item 8100\n\\item 8281\n\\item 8464\n\\item 8649\n\\item 8836\n\\item 9025\n\\item 9216\n\\item 9409\n\\item 9604\n\\item 9801\n\\item 10000\n\\end{enumerate*}\n",
      "text/plain": "  [1]     1     4     9    16    25    36    49    64    81   100   121   144\n [13]   169   196   225   256   289   324   361   400   441   484   529   576\n [25]   625   676   729   784   841   900   961  1024  1089  1156  1225  1296\n [37]  1369  1444  1521  1600  1681  1764  1849  1936  2025  2116  2209  2304\n [49]  2401  2500  2601  2704  2809  2916  3025  3136  3249  3364  3481  3600\n [61]  3721  3844  3969  4096  4225  4356  4489  4624  4761  4900  5041  5184\n [73]  5329  5476  5625  5776  5929  6084  6241  6400  6561  6724  6889  7056\n [85]  7225  7396  7569  7744  7921  8100  8281  8464  8649  8836  9025  9216\n [97]  9409  9604  9801 10000"
     },
     "metadata": {},
     "output_type": "display_data"
    }
   ],
   "source": [
    "y <- (1:100)^2\n",
    "y"
   ]
  },
  {
   "cell_type": "code",
   "execution_count": 2,
   "outputs": [
    {
     "data": {
      "text/html": "196",
      "text/markdown": "196",
      "text/latex": "196",
      "text/plain": "[1] 196"
     },
     "metadata": {},
     "output_type": "display_data"
    }
   ],
   "source": [
    "y[14]"
   ],
   "metadata": {
    "collapsed": false
   }
  },
  {
   "cell_type": "code",
   "execution_count": 4,
   "outputs": [],
   "source": [
    "data(men1500m, package='HSAUR2')"
   ],
   "metadata": {
    "collapsed": false
   }
  },
  {
   "cell_type": "code",
   "execution_count": 5,
   "outputs": [
    {
     "data": {
      "text/html": "<table class=\"dataframe\">\n<caption>A data.frame: 25 × 5</caption>\n<thead>\n\t<tr><th scope=col>year</th><th scope=col>venue</th><th scope=col>winner</th><th scope=col>country</th><th scope=col>time</th></tr>\n\t<tr><th scope=col>&lt;dbl&gt;</th><th scope=col>&lt;chr&gt;</th><th scope=col>&lt;chr&gt;</th><th scope=col>&lt;fct&gt;</th><th scope=col>&lt;dbl&gt;</th></tr>\n</thead>\n<tbody>\n\t<tr><td>1896</td><td>Athens     </td><td>E. Flack      </td><td>Australia    </td><td>273.20</td></tr>\n\t<tr><td>1900</td><td>Paris      </td><td>C. Bennett    </td><td>Great Britain</td><td>246.20</td></tr>\n\t<tr><td>1904</td><td>St. Louis  </td><td>J. Lightbody  </td><td>USA          </td><td>245.40</td></tr>\n\t<tr><td>1908</td><td>London     </td><td>M. Sheppard   </td><td>USA          </td><td>243.40</td></tr>\n\t<tr><td>1912</td><td>Stockholm  </td><td>A. Jackson    </td><td>Great Britain</td><td>236.80</td></tr>\n\t<tr><td>1920</td><td>Antwerp    </td><td>A. Hill       </td><td>Great Britain</td><td>241.80</td></tr>\n\t<tr><td>1924</td><td>Paris      </td><td>P. Nurmi      </td><td>Finland      </td><td>233.60</td></tr>\n\t<tr><td>1928</td><td>Amsterdam  </td><td>H. Larva      </td><td>Finland      </td><td>233.20</td></tr>\n\t<tr><td>1932</td><td>Los Angeles</td><td>L. Beccali    </td><td>Italy        </td><td>231.20</td></tr>\n\t<tr><td>1936</td><td>Berlin     </td><td>J. Lovelock   </td><td>New Zealand  </td><td>227.80</td></tr>\n\t<tr><td>1948</td><td>London     </td><td>H. Eriksson   </td><td>Sweden       </td><td>229.80</td></tr>\n\t<tr><td>1952</td><td>Helsinki   </td><td>J. Barthel    </td><td>Luxemborg    </td><td>225.10</td></tr>\n\t<tr><td>1956</td><td>Melbourne  </td><td>R. Delaney    </td><td>Ireland      </td><td>221.20</td></tr>\n\t<tr><td>1960</td><td>Rome       </td><td>H. Elliott    </td><td>Australia    </td><td>215.60</td></tr>\n\t<tr><td>1964</td><td>Tokyo      </td><td>P. Snell      </td><td>New Zealand  </td><td>218.10</td></tr>\n\t<tr><td>1968</td><td>Mexico City</td><td>K. Keino      </td><td>Kenya        </td><td>214.90</td></tr>\n\t<tr><td>1972</td><td>Munich     </td><td>P. Vasala     </td><td>Finland      </td><td>216.30</td></tr>\n\t<tr><td>1976</td><td>Montreal   </td><td>J. Walker     </td><td>New Zealand  </td><td>219.17</td></tr>\n\t<tr><td>1980</td><td>Moscow     </td><td>S. Coe        </td><td>Great Britain</td><td>218.40</td></tr>\n\t<tr><td>1984</td><td>Los Angeles</td><td>S. Coe        </td><td>Great Britain</td><td>212.53</td></tr>\n\t<tr><td>1988</td><td>Seoul      </td><td>P. Rono       </td><td>Kenya        </td><td>215.95</td></tr>\n\t<tr><td>1992</td><td>Barcelona  </td><td>F. Cacho      </td><td>Spain        </td><td>220.12</td></tr>\n\t<tr><td>1996</td><td>Atlanta    </td><td>N. Morceli    </td><td>Algeria      </td><td>215.78</td></tr>\n\t<tr><td>2000</td><td>Sydney     </td><td>K. Ngenyi     </td><td>Kenya        </td><td>212.07</td></tr>\n\t<tr><td>2004</td><td>Athens     </td><td>H. El Guerrouj</td><td>Morocco      </td><td>214.18</td></tr>\n</tbody>\n</table>\n",
      "text/markdown": "\nA data.frame: 25 × 5\n\n| year &lt;dbl&gt; | venue &lt;chr&gt; | winner &lt;chr&gt; | country &lt;fct&gt; | time &lt;dbl&gt; |\n|---|---|---|---|---|\n| 1896 | Athens      | E. Flack       | Australia     | 273.20 |\n| 1900 | Paris       | C. Bennett     | Great Britain | 246.20 |\n| 1904 | St. Louis   | J. Lightbody   | USA           | 245.40 |\n| 1908 | London      | M. Sheppard    | USA           | 243.40 |\n| 1912 | Stockholm   | A. Jackson     | Great Britain | 236.80 |\n| 1920 | Antwerp     | A. Hill        | Great Britain | 241.80 |\n| 1924 | Paris       | P. Nurmi       | Finland       | 233.60 |\n| 1928 | Amsterdam   | H. Larva       | Finland       | 233.20 |\n| 1932 | Los Angeles | L. Beccali     | Italy         | 231.20 |\n| 1936 | Berlin      | J. Lovelock    | New Zealand   | 227.80 |\n| 1948 | London      | H. Eriksson    | Sweden        | 229.80 |\n| 1952 | Helsinki    | J. Barthel     | Luxemborg     | 225.10 |\n| 1956 | Melbourne   | R. Delaney     | Ireland       | 221.20 |\n| 1960 | Rome        | H. Elliott     | Australia     | 215.60 |\n| 1964 | Tokyo       | P. Snell       | New Zealand   | 218.10 |\n| 1968 | Mexico City | K. Keino       | Kenya         | 214.90 |\n| 1972 | Munich      | P. Vasala      | Finland       | 216.30 |\n| 1976 | Montreal    | J. Walker      | New Zealand   | 219.17 |\n| 1980 | Moscow      | S. Coe         | Great Britain | 218.40 |\n| 1984 | Los Angeles | S. Coe         | Great Britain | 212.53 |\n| 1988 | Seoul       | P. Rono        | Kenya         | 215.95 |\n| 1992 | Barcelona   | F. Cacho       | Spain         | 220.12 |\n| 1996 | Atlanta     | N. Morceli     | Algeria       | 215.78 |\n| 2000 | Sydney      | K. Ngenyi      | Kenya         | 212.07 |\n| 2004 | Athens      | H. El Guerrouj | Morocco       | 214.18 |\n\n",
      "text/latex": "A data.frame: 25 × 5\n\\begin{tabular}{lllll}\n year & venue & winner & country & time\\\\\n <dbl> & <chr> & <chr> & <fct> & <dbl>\\\\\n\\hline\n\t 1896 & Athens      & E. Flack       & Australia     & 273.20\\\\\n\t 1900 & Paris       & C. Bennett     & Great Britain & 246.20\\\\\n\t 1904 & St. Louis   & J. Lightbody   & USA           & 245.40\\\\\n\t 1908 & London      & M. Sheppard    & USA           & 243.40\\\\\n\t 1912 & Stockholm   & A. Jackson     & Great Britain & 236.80\\\\\n\t 1920 & Antwerp     & A. Hill        & Great Britain & 241.80\\\\\n\t 1924 & Paris       & P. Nurmi       & Finland       & 233.60\\\\\n\t 1928 & Amsterdam   & H. Larva       & Finland       & 233.20\\\\\n\t 1932 & Los Angeles & L. Beccali     & Italy         & 231.20\\\\\n\t 1936 & Berlin      & J. Lovelock    & New Zealand   & 227.80\\\\\n\t 1948 & London      & H. Eriksson    & Sweden        & 229.80\\\\\n\t 1952 & Helsinki    & J. Barthel     & Luxemborg     & 225.10\\\\\n\t 1956 & Melbourne   & R. Delaney     & Ireland       & 221.20\\\\\n\t 1960 & Rome        & H. Elliott     & Australia     & 215.60\\\\\n\t 1964 & Tokyo       & P. Snell       & New Zealand   & 218.10\\\\\n\t 1968 & Mexico City & K. Keino       & Kenya         & 214.90\\\\\n\t 1972 & Munich      & P. Vasala      & Finland       & 216.30\\\\\n\t 1976 & Montreal    & J. Walker      & New Zealand   & 219.17\\\\\n\t 1980 & Moscow      & S. Coe         & Great Britain & 218.40\\\\\n\t 1984 & Los Angeles & S. Coe         & Great Britain & 212.53\\\\\n\t 1988 & Seoul       & P. Rono        & Kenya         & 215.95\\\\\n\t 1992 & Barcelona   & F. Cacho       & Spain         & 220.12\\\\\n\t 1996 & Atlanta     & N. Morceli     & Algeria       & 215.78\\\\\n\t 2000 & Sydney      & K. Ngenyi      & Kenya         & 212.07\\\\\n\t 2004 & Athens      & H. El Guerrouj & Morocco       & 214.18\\\\\n\\end{tabular}\n",
      "text/plain": "   year venue       winner         country       time  \n1  1896 Athens      E. Flack       Australia     273.20\n2  1900 Paris       C. Bennett     Great Britain 246.20\n3  1904 St. Louis   J. Lightbody   USA           245.40\n4  1908 London      M. Sheppard    USA           243.40\n5  1912 Stockholm   A. Jackson     Great Britain 236.80\n6  1920 Antwerp     A. Hill        Great Britain 241.80\n7  1924 Paris       P. Nurmi       Finland       233.60\n8  1928 Amsterdam   H. Larva       Finland       233.20\n9  1932 Los Angeles L. Beccali     Italy         231.20\n10 1936 Berlin      J. Lovelock    New Zealand   227.80\n11 1948 London      H. Eriksson    Sweden        229.80\n12 1952 Helsinki    J. Barthel     Luxemborg     225.10\n13 1956 Melbourne   R. Delaney     Ireland       221.20\n14 1960 Rome        H. Elliott     Australia     215.60\n15 1964 Tokyo       P. Snell       New Zealand   218.10\n16 1968 Mexico City K. Keino       Kenya         214.90\n17 1972 Munich      P. Vasala      Finland       216.30\n18 1976 Montreal    J. Walker      New Zealand   219.17\n19 1980 Moscow      S. Coe         Great Britain 218.40\n20 1984 Los Angeles S. Coe         Great Britain 212.53\n21 1988 Seoul       P. Rono        Kenya         215.95\n22 1992 Barcelona   F. Cacho       Spain         220.12\n23 1996 Atlanta     N. Morceli     Algeria       215.78\n24 2000 Sydney      K. Ngenyi      Kenya         212.07\n25 2004 Athens      H. El Guerrouj Morocco       214.18"
     },
     "metadata": {},
     "output_type": "display_data"
    }
   ],
   "source": [
    "men1500m"
   ],
   "metadata": {
    "collapsed": false
   }
  },
  {
   "cell_type": "code",
   "execution_count": 6,
   "outputs": [
    {
     "data": {
      "text/html": "<style>\n.list-inline {list-style: none; margin:0; padding: 0}\n.list-inline>li {display: inline-block}\n.list-inline>li:not(:last-child)::after {content: \"\\00b7\"; padding: 0 .5ex}\n</style>\n<ol class=list-inline><li>1</li><li>2</li><li>3</li><li>4</li><li>5</li><li>6</li><li>7</li><li>8</li><li>9</li><li>10</li><li>11</li><li>12</li></ol>\n",
      "text/markdown": "1. 1\n2. 2\n3. 3\n4. 4\n5. 5\n6. 6\n7. 7\n8. 8\n9. 9\n10. 10\n11. 11\n12. 12\n\n\n",
      "text/latex": "\\begin{enumerate*}\n\\item 1\n\\item 2\n\\item 3\n\\item 4\n\\item 5\n\\item 6\n\\item 7\n\\item 8\n\\item 9\n\\item 10\n\\item 11\n\\item 12\n\\end{enumerate*}\n",
      "text/plain": " [1]  1  2  3  4  5  6  7  8  9 10 11 12"
     },
     "metadata": {},
     "output_type": "display_data"
    }
   ],
   "source": [
    "x <- scan('simpleData.txt', skip = 2)\n",
    "x"
   ],
   "metadata": {
    "collapsed": false
   }
  },
  {
   "cell_type": "code",
   "execution_count": 7,
   "outputs": [
    {
     "data": {
      "text/plain": "   Min. 1st Qu.  Median    Mean 3rd Qu.    Max. \n   1.00    3.75    6.50    6.50    9.25   12.00 "
     },
     "metadata": {},
     "output_type": "display_data"
    }
   ],
   "source": [
    "summary(x)"
   ],
   "metadata": {
    "collapsed": false
   }
  },
  {
   "cell_type": "code",
   "execution_count": 8,
   "outputs": [
    {
     "data": {
      "text/html": "<table class=\"dataframe\">\n<caption>A matrix: 3 × 4 of type dbl</caption>\n<tbody>\n\t<tr><td>1</td><td> 2</td><td> 3</td><td> 4</td></tr>\n\t<tr><td>5</td><td> 6</td><td> 7</td><td> 8</td></tr>\n\t<tr><td>9</td><td>10</td><td>11</td><td>12</td></tr>\n</tbody>\n</table>\n",
      "text/markdown": "\nA matrix: 3 × 4 of type dbl\n\n| 1 |  2 |  3 |  4 |\n| 5 |  6 |  7 |  8 |\n| 9 | 10 | 11 | 12 |\n\n",
      "text/latex": "A matrix: 3 × 4 of type dbl\n\\begin{tabular}{llll}\n\t 1 &  2 &  3 &  4\\\\\n\t 5 &  6 &  7 &  8\\\\\n\t 9 & 10 & 11 & 12\\\\\n\\end{tabular}\n",
      "text/plain": "     [,1] [,2] [,3] [,4]\n[1,] 1     2    3    4  \n[2,] 5     6    7    8  \n[3,] 9    10   11   12  "
     },
     "metadata": {},
     "output_type": "display_data"
    }
   ],
   "source": [
    "y <- matrix(scan('simpleData.txt', skip = 2), byrow = T, ncol = 4)\n",
    "y"
   ],
   "metadata": {
    "collapsed": false
   }
  },
  {
   "cell_type": "code",
   "execution_count": null,
   "outputs": [],
   "source": [
    "# write code to compute the nonnegative matrix factorization of a matrix A"
   ],
   "metadata": {
    "collapsed": false
   }
  },
  {
   "cell_type": "code",
   "execution_count": 1,
   "outputs": [
    {
     "data": {
      "text/html": "<table class=\"dataframe\">\n<caption>A matrix: 2 × 3 of type dbl</caption>\n<tbody>\n\t<tr><td>1</td><td>3</td><td>5</td></tr>\n\t<tr><td>2</td><td>4</td><td>6</td></tr>\n</tbody>\n</table>\n",
      "text/markdown": "\nA matrix: 2 × 3 of type dbl\n\n| 1 | 3 | 5 |\n| 2 | 4 | 6 |\n\n",
      "text/latex": "A matrix: 2 × 3 of type dbl\n\\begin{tabular}{lll}\n\t 1 & 3 & 5\\\\\n\t 2 & 4 & 6\\\\\n\\end{tabular}\n",
      "text/plain": "     [,1] [,2] [,3]\n[1,] 1    3    5   \n[2,] 2    4    6   "
     },
     "metadata": {},
     "output_type": "display_data"
    }
   ],
   "source": [
    "A <- matrix(c(1, 2, 3, 4, 5, 6), nrow = 2, ncol = 3)\n",
    "A"
   ],
   "metadata": {
    "collapsed": false
   }
  },
  {
   "cell_type": "code",
   "execution_count": null,
   "outputs": [],
   "source": [
    "# write a function to compute the probability of at least 2 students having the same birthday in a class of k students\n",
    "# copilot sucks\n"
   ],
   "metadata": {
    "collapsed": false
   }
  }
 ],
 "metadata": {
  "kernelspec": {
   "name": "ir",
   "language": "R",
   "display_name": "R"
  },
  "language_info": {
   "codemirror_mode": "r",
   "file_extension": ".r",
   "mimetype": "text/x-r-source",
   "name": "R",
   "pygments_lexer": "r",
   "version": "4.2.2"
  }
 },
 "nbformat": 4,
 "nbformat_minor": 1
}
