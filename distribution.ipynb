{
 "cells": [
  {
   "cell_type": "code",
   "execution_count": null,
   "metadata": {
    "collapsed": true
   },
   "outputs": [],
   "source": []
  },
  {
   "cell_type": "code",
   "execution_count": null,
   "metadata": {},
   "outputs": [],
   "source": []
  },
  {
   "cell_type": "code",
   "execution_count": 1,
   "metadata": {},
   "outputs": [
    {
     "name": "stdout",
     "output_type": "stream",
     "text": [
      "Mean 1.903 \n",
      "Var 1.44748\n",
      "np = 1.92 \n",
      "np(1-p) = 1.4592"
     ]
    },
    {
     "data": {
      "text/plain": "x\n   0    1    2    3    4    5    6    7 \n 559 1443 1537  973  382   86   19    1 "
     },
     "metadata": {},
     "output_type": "display_data"
    }
   ],
   "source": [
    "repeats <- 5000; n <- 8; p <- 0.24;\n",
    "x <- rbinom(repeats, n, p)\n",
    "cat(\"Mean\", mean(x), \"\\nVar\", var(x))\n",
    "cat(\"\\nnp =\", n * p, \"\\nnp(1-p) =\", n * p * (1 - p))\n",
    "table(x)"
   ]
  },
  {
   "cell_type": "code",
   "execution_count": null,
   "metadata": {},
   "outputs": [],
   "source": []
  }
 ],
 "metadata": {
  "kernelspec": {
   "name": "ir",
   "language": "R",
   "display_name": "R"
  },
  "language_info": {
   "codemirror_mode": "r",
   "file_extension": ".r",
   "mimetype": "text/x-r-source",
   "name": "R",
   "pygments_lexer": "r",
   "version": "4.2.2"
  }
 },
 "nbformat": 4,
 "nbformat_minor": 1
}
